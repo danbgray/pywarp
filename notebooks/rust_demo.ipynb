{
 "cells": [
  {
   "cell_type": "markdown",
   "metadata": {},
   "source": [
    "# Rust-accelerated Energy Tensor\n",
    "\n",
    "This notebook shows how to enable the Rust extensions used by PyWarp. After building the extension the energy tensor computations automatically call the Rust routines."
   ]
  },
  {
   "cell_type": "markdown",
   "metadata": {},
   "source": [
    "Run the following once in your environment to compile the extension:" ,
    "\n",
    "```bash\n",
    "pip install maturin\n",
    "maturin develop\n",
    "```\n"
   ]
  },
  {
   "cell_type": "code",
   "execution_count": null,
   "metadata": {},
   "outputs": [],
   "source": [
    "from warp.metrics.get_alcubierre import metric_get_alcubierre\n",
    "from warp.solver.get_energy_tensor import get_energy_tensor\n",
    "import numpy as np\n",
    "import plotly.graph_objects as go"
   ]
  },
  {
   "cell_type": "code",
   "execution_count": null,
   "metadata": {},
   "outputs": [],
   "source": [
    "metric = metric_get_alcubierre([3,4,4,4], [1,2,2,2], 0.1, 1.0, 1.0, [1,1,1,1])\n",
    "energy = get_energy_tensor(metric)\n",
    "energy_density = energy['tensor'][0,0]"
   ]
  },
  {
   "cell_type": "markdown",
   "metadata": {},
   "source": [
    "The quantity $T_{00}$ represents the energy density in the chosen coordinates. Regions of negative values would require exotic matter." 
   ]
  },
  {
   "cell_type": "code",
   "execution_count": null,
   "metadata": {},
   "outputs": [],
   "source": [
    "x = np.arange(energy_density.shape[1])\n",
    "t = np.arange(energy_density.shape[0])\n",
    "X, T = np.meshgrid(x, t, indexing='ij')\n",
    "Z = energy_density\n",
    "fig = go.Figure(data=go.Surface(x=X, y=T, z=Z))\n",
    "fig.update_layout(title='Energy Density (T_00)', scene=dict(xaxis_title='x', yaxis_title='t', zaxis_title='T_00'))\n",
    "fig.show()"
   ]
  }
 ],
 "metadata": {
  "kernelspec": {
   "display_name": "Python 3",
   "language": "python",
   "name": "python3"
  },
  "language_info": {
   "name": "python",
   "version": "3.x"
  }
 },
 "nbformat": 4,
 "nbformat_minor": 5
}
