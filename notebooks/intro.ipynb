{
 "cells": [
  {
   "cell_type": "markdown",
   "id": "9f979ce9",
   "metadata": {},
   "source": [
    "# Intro to PyWarp\n",
    "\n",
    "This notebook demonstrates how to compute a metric, evaluate its energy tensor, and visualise the result with `plotly`."
   ]
  },
  {
   "cell_type": "code",
   "execution_count": null,
   "id": "3a8f123b",
   "metadata": {},
   "outputs": [],
   "source": [
    "from warp.metrics.get_alcubierre import metricGet_Alcubierre\n",
    "from warp.solver.get_energy_tensor import get_energy_tensor\n",
    "import plotly.graph_objects as go\n",
    "import numpy as np"
   ]
  },
  {
   "cell_type": "code",
   "execution_count": null,
   "id": "a20a5559",
   "metadata": {},
   "outputs": [],
   "source": [
    "# define grid and warp parameters\n",
    "metric = metricGet_Alcubierre(\n",
    "    [3, 4, 4, 4],       # grid size (t, x, y, z)\n",
    "    [1, 2, 2, 2],       # center of the warp bubble\n",
    "    0.1,                # velocity fraction of c\n",
    "    1.0,                # bubble radius\n",
    "    1.0,                # bubble thickness\n",
    "    [1, 1, 1, 1])       # scaling of coordinates\n",
    "energy = get_energy_tensor(metric)"
   ]
  },
  {
   "cell_type": "code",
   "execution_count": null,
   "id": "43289ca8",
   "metadata": {},
   "outputs": [],
   "source": [
    "# Extract the energy density (T_00 component)\n",
    "energy_density = energy['tensor'][0,0]\n",
    "print(energy_density.shape)"
   ]
  },
  {
   "cell_type": "code",
   "execution_count": null,
   "id": "72fb500a",
   "metadata": {},
   "outputs": [],
   "source": [
    "# Create coordinate grids for visualisation\n",
    "x = np.arange(energy_density.shape[1])\n",
    "y = np.arange(energy_density.shape[2])\n",
    "X, Y = np.meshgrid(x, y, indexing='ij')\n",
    "# Use the middle time slice\n",
    "Z = energy_density[1]\n",
    "fig = go.Figure(data=go.Surface(x=X, y=Y, z=Z))\n",
    "fig.update_layout(title='Energy Density', autosize=False,\n",
    "                  width=600, height=600,\n",
    "                  scene=dict(xaxis_title='x', yaxis_title='y', zaxis_title='T_00'))\n",
    "fig.show()"
   ]
  }
 ],
 "metadata": {},
 "nbformat": 4,
 "nbformat_minor": 5
}
