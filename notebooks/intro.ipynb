{
 "cells": [
  {
   "cell_type": "markdown",
   "id": "9f979ce9",
   "metadata": {},
   "source": [
    "# Intro to PyWarp\n",
    "\n",
    "This notebook demonstrates how to compute a metric, evaluate its energy tensor, and visualise the result with `plotly`."
   ]
  },
  {
   "cell_type": "code",
   "execution_count": null,
   "id": "3a8f123b",
   "metadata": {},
   "outputs": [],
   "source": [
    "import os, sys, pathlib\n",
    "root = pathlib.Path().resolve()\n",
    "if not (root / 'warp').exists():\n",
    "    root = root.parent\n",
    "sys.path.insert(0, str(root))\n",
    "\n",
    "from warp.metrics.get_alcubierre import metricGet_Alcubierre\n",
    "from warp.solver.get_energy_tensor import get_energy_tensor\n",
    "import plotly.graph_objects as go\n",
    "import numpy as np"
   ]
  },
  {
   "cell_type": "markdown",
   "metadata": {},
   "source": [
    "## Building Metrics\n",
    "\n",
    "The `warp.metrics` module provides helper functions for constructing spacetimes.\n",
    "* `metric_get_minkowski` \u2013 build a Minkowski metric.\n",
    "* `metricGet_Alcubierre` \u2013 create an Alcubierre warp metric.\n",
    "* `metricGet_AlcubierreComoving` \u2013 the comoving Alcubierre metric.\n",
    "\n",
    "We'll use these helpers below to create example metrics.\n"
   ]
  },
  {
   "cell_type": "code",
   "metadata": {},
   "execution_count": null,
   "outputs": [],
   "source": [
    "from warp.metrics.get_minkowski import metric_get_minkowski\n",
    "minkowski = metric_get_minkowski((2, 2, 2, 2))\n",
    "minkowski['tensor'].shape"
   ]
  },
  {
   "cell_type": "code",
   "metadata": {},
   "execution_count": null,
   "outputs": [],
   "source": [
    "velocities = [0.0, 0.1, 0.2]\n",
    "metrics = [metricGet_Alcubierre([3,4,4,4], [1,2,2,2], v, 1.0, 1.0, [1,1,1,1]) for v in velocities]\n",
    "[m['params']['velocity'] for m in metrics]"
   ]
  },
  {
   "cell_type": "code",
   "execution_count": null,
   "id": "a20a5559",
   "metadata": {},
   "outputs": [],
   "source": [
    "# define grid and warp parameters\n",
    "metric = metricGet_Alcubierre(\n",
    "    [3, 4, 4, 4],       # grid size (t, x, y, z)\n",
    "    [1, 2, 2, 2],       # center of the warp bubble\n",
    "    0.1,                # velocity fraction of c\n",
    "    1.0,                # bubble radius\n",
    "    1.0,                # bubble thickness\n",
    "    [1, 1, 1, 1])       # scaling of coordinates\n",
    "energy = get_energy_tensor(metric)"
   ]
  },
  {
   "cell_type": "code",
   "metadata": {},
   "execution_count": null,
   "outputs": [],
   "source": [
    "from warp.analyzer.eval_metric import eval_metric\n",
    "analysis = eval_metric(metric, try_gpu=0, keep_positive=1, num_angular_vec=10, num_time_vec=5)\n",
    "energy_conditions = analysis['null']"
   ]
  },
  {
   "cell_type": "code",
   "execution_count": null,
   "id": "43289ca8",
   "metadata": {},
   "outputs": [],
   "source": [
    "# Extract the energy density (T_00 component)\n",
    "energy_density = energy['tensor'][0,0]\n",
    "print(energy_density.shape)"
   ]
  },
  {
   "cell_type": "code",
   "execution_count": null,
   "id": "72fb500a",
   "metadata": {},
   "outputs": [],
   "source": [
    "# Create coordinate grids for visualisation\n",
    "x = np.arange(energy_density.shape[1])\n",
    "y = np.arange(energy_density.shape[2])\n",
    "X, Y = np.meshgrid(x, y, indexing='ij')\n",
    "# Use the middle time slice\n",
    "Z = energy_density[1]\n",
    "fig = go.Figure(data=go.Heatmap(x=x, y=y, z=Z))\n",
    "fig.update_layout(title='Energy Density', xaxis_title='x', yaxis_title='y')\n",
    "fig.show()"
   ]
  },
  {
   "cell_type": "code",
   "metadata": {},
   "execution_count": null,
   "outputs": [],
   "source": [
    "# Visualise the null energy condition\n",
    "ec_slice = energy_conditions[0]\n",
    "fig = go.Figure(data=go.Heatmap(z=ec_slice[1]))\n",
    "fig.update_layout(title='Null Energy Condition', xaxis_title='x', yaxis_title='y')\n",
    "fig.show()"
   ]
  },
  {
   "cell_type": "markdown",
   "metadata": {},
   "source": [
    "## Parameter sweeps\n",
    "\n",
    "The `run_parameter_sweep` helper evaluates `eval_metric` for each metric in an iterable and returns all the results as a list."
   ]
  },
  {
   "cell_type": "code",
   "metadata": {},
   "execution_count": null,
   "outputs": [],
   "source": [
    "from warp.pipeline.simulation import run_parameter_sweep\n",
    "from warp.metrics.get_minkowski import metric_get_minkowski\n",
    "\n",
    "metrics = [metric_get_minkowski((2,2,2,2)) for _ in range(2)]\n",
    "results = run_parameter_sweep(metrics)\n",
    "print(len(results))"
   ]
  }
 ],
 "metadata": {},
 "nbformat": 4,
 "nbformat_minor": 5
}
